{
 "cells": [
  {
   "cell_type": "code",
   "execution_count": 6,
   "id": "8ab330cb",
   "metadata": {},
   "outputs": [],
   "source": [
    "import requests\n",
    "import re\n",
    "from operator import itemgetter\n",
    "\n",
    "username = 'michesquivel'\n",
    "token = ''"
   ]
  },
  {
   "cell_type": "code",
   "execution_count": 7,
   "id": "531c15bd",
   "metadata": {},
   "outputs": [
    {
     "name": "stdout",
     "output_type": "stream",
     "text": [
      "https://api.github.com/repos/TheIronhidex/mad-oct-2018/languages\n",
      "https://api.github.com/repos/techols/mad-oct-2018/languages\n",
      "https://api.github.com/repos/luisbang/mad-oct-2018/languages\n",
      "https://api.github.com/repos/Forastierii/mad-oct-2018/languages\n",
      "https://api.github.com/repos/ToniPons97/mad-oct-2018/languages\n",
      "https://api.github.com/repos/rsennes/mad-oct-2018/languages\n",
      "https://api.github.com/repos/gggfaria/mad-oct-2018/languages\n",
      "https://api.github.com/repos/nancyulric/mad-oct-2018/languages\n",
      "https://api.github.com/repos/lmartinezruizit/datamad0119/languages\n",
      "https://api.github.com/repos/eye8/madrid-oct-2018/languages\n",
      "https://api.github.com/repos/ArieHassan/madrid-oct-2018/languages\n",
      "https://api.github.com/repos/cmvalma/Ironhack-oct-2018/languages\n",
      "https://api.github.com/repos/criraca/madrid-oct-2018/languages\n",
      "https://api.github.com/repos/AlbertoCastellanos/madrid-oct-2018/languages\n",
      "https://api.github.com/repos/elenajpp/madrid-oct-2018/languages\n",
      "https://api.github.com/repos/miriammg/madrid-oct-2018/languages\n",
      "https://api.github.com/repos/albertogcmr/madrid-oct-2018/languages\n",
      "https://api.github.com/repos/marisfont/madrid-oct-2018/languages\n"
     ]
    }
   ],
   "source": [
    "requestA = requests.get('http://api.github.com/repos/ironhack-datalabs/madrid-oct-2018/forks')\n",
    "resultados = requestA.json()\n",
    "#print(resultados)\n",
    "idiomas=[]\n",
    "for res in resultados:\n",
    "    print ( res.get('languages_url'))\n"
   ]
  },
  {
   "cell_type": "code",
   "execution_count": 8,
   "id": "b7be72a9",
   "metadata": {},
   "outputs": [
    {
     "name": "stdout",
     "output_type": "stream",
     "text": [
      "[None, 'Jupyter Notebook', 'HTML']\n"
     ]
    }
   ],
   "source": [
    "import json\n",
    "import requests\n",
    "requestA = requests.get('http://api.github.com/repos/ironhack-datalabs/madrid-oct-2018/forks')\n",
    "resultados = requestA.json()\n",
    "#print(resultados)\n",
    "idiomas=[]\n",
    "# python sale como valor None\n",
    "for res in resultados:\n",
    "    lenguaje=res.get('language')\n",
    "    #print(lenguaje)\n",
    "    if lenguaje not in idiomas:\n",
    "        idiomas.append(lenguaje)\n",
    "print(idiomas)"
   ]
  },
  {
   "cell_type": "code",
   "execution_count": 3,
   "id": "8524ed57",
   "metadata": {},
   "outputs": [
    {
     "name": "stdout",
     "output_type": "stream",
     "text": [
      "['Jupyter Notebook', 'HTML', 'Python']\n"
     ]
    }
   ],
   "source": [
    "idiomas2=requests.get('http://api.github.com/repos/ironhack-datalabs/madrid-oct-2018/languages')\n",
    "resultados2=idiomas2.json()\n",
    "#print(resultados2.keys())\n",
    "idiomas3=[]\n",
    "for i in resultados2:\n",
    "    idiomas3.append(i)\n",
    "print(idiomas3)"
   ]
  }
 ],
 "metadata": {
  "kernelspec": {
   "display_name": "Python 3 (ipykernel)",
   "language": "python",
   "name": "python3"
  },
  "language_info": {
   "codemirror_mode": {
    "name": "ipython",
    "version": 3
   },
   "file_extension": ".py",
   "mimetype": "text/x-python",
   "name": "python",
   "nbconvert_exporter": "python",
   "pygments_lexer": "ipython3",
   "version": "3.9.7"
  }
 },
 "nbformat": 4,
 "nbformat_minor": 5
}
