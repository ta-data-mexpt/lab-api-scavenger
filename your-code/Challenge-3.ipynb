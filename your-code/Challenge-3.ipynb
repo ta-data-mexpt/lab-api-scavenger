{
 "cells": [
  {
   "cell_type": "markdown",
   "id": "935d134c",
   "metadata": {},
   "source": [
    "### Challenge 3: Hidden Cold Joke\n",
    "\n",
    "Using Python, call Github API to find out the cold joke contained in the 24 secret files in the following repo:\n",
    "\n",
    "https://github.com/ironhack-datalabs/scavenger\n",
    "\n",
    "The filenames of the secret files contain `.scavengerhunt` and they are scattered in different directories of this repo. The secret files are named from `.0001.scavengerhunt` to `.0024.scavengerhunt`. They are scattered randomly throughout this repo. You need to **search for these files by calling the Github API**, not searching the local files on your computer.\n",
    "\n",
    "Notes:\n",
    "\n",
    "* Github API documentation can be found [here](https://developer.github.com/v3/).\n",
    "\n",
    "* You will need to study the Github API documentation to decide which API endpoint to call and what parameters to use in order to obtain the information you need. Unless you are already super familiar with Github API or super lucky, you probably will do some trials and errors. Therefore, be prepared to go back and forth in studying the API documentation, testing, and revising until you obtain what you need.\n",
    "\n",
    "* After receiving the JSON data object, you need to inspect its structure and decide how to parse the data.\n",
    "\n",
    "* When you test your requests with Github API, sometimes you may be blocked by Github with an error message that reads:\n",
    "\n",
    "\t> You have triggered an abuse detection mechanism and have been temporarily blocked from content creation. Please retry your request again later.\n",
    "\n",
    "\tDon't worry. Check the parameters in your request and wait for a minute or two before you make additional requests.\n",
    "\n",
    "**After you find out the secrete files:**\n",
    "\n",
    "1. Sort the filenames ascendingly.\n",
    "\n",
    "1. Read the content of each secret files into an array of strings.\n",
    "\n",
    "1. Concatenate the strings in the array separating each two with a whitespace.\n",
    "\n",
    "1. Print out the joke.\n"
   ]
  },
  {
   "cell_type": "code",
   "execution_count": null,
   "id": "28524da3",
   "metadata": {},
   "outputs": [],
   "source": [
    "import requests\n",
    "import regex as re\n",
    "\n",
    "repo = requests.get(\"https://api.github.com/repos/ironhack-datalabs/scavenger/contents\")\n",
    "\n",
    "len(repo.json())\n",
    "nombre_carpeta=[carpeta['name'] for carpeta in repo.json()]\n",
    "\n",
    "archivos=[requests.get(f\"https://api.github.com/repos/ironhack-datalabs/scavenger/contents/{carpeta}\") for carpeta in nombre_carpeta]\n",
    "\n",
    "archivos.pop(0)\n",
    "\n",
    "dic={}\n",
    "for i in archivos:\n",
    "        nombre=i.json()[0]['name']\n",
    "        url=i.json()[0]['download_url']\n",
    "        cont=requests.get(url)\n",
    "        text=cont.text\n",
    "        if nombre.endswith(\"hunt\")==True:\n",
    "            dic[nombre]=text\n",
    "\n",
    "chiste=[elemento[1].replace(\"\\n\", \"\") for elemento in sorted(dic.items())]\n",
    "print(\" \".join(chiste))"
   ]
  }
 ],
 "metadata": {
  "kernelspec": {
   "display_name": "Python 3",
   "language": "python",
   "name": "python3"
  },
  "language_info": {
   "codemirror_mode": {
    "name": "ipython",
    "version": 3
   },
   "file_extension": ".py",
   "mimetype": "text/x-python",
   "name": "python",
   "nbconvert_exporter": "python",
   "pygments_lexer": "ipython3",
   "version": "3.8.8"
  }
 },
 "nbformat": 4,
 "nbformat_minor": 5
}
