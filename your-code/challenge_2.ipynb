{
 "cells": [
  {
   "cell_type": "code",
   "execution_count": 1,
   "id": "6db1616f",
   "metadata": {},
   "outputs": [
    {
     "name": "stdout",
     "output_type": "stream",
     "text": [
      "{'name': 'Marc Pomar', 'email': 'marc@faable.com', 'date': '2019-08-19T11:11:36Z'}\n",
      "{'name': 'ta-data-bcn', 'email': '47005065+ta-data-bcn@users.noreply.github.com', 'date': '2019-03-07T15:49:16Z'}\n",
      "{'name': 'ta-data-bcn', 'email': '47005065+ta-data-bcn@users.noreply.github.com', 'date': '2019-03-07T15:38:52Z'}\n",
      "{'name': 'Tony Ojeda', 'email': 'tojeda@districtdatalabs.com', 'date': '2019-01-18T18:28:33Z'}\n",
      "{'name': 'Michal Monselise', 'email': 'michal.monselise@gmail.com', 'date': '2019-01-17T21:59:35Z'}\n",
      "{'name': 'Michal Monselise', 'email': 'michal.monselise@gmail.com', 'date': '2019-01-17T06:33:16Z'}\n",
      "{'name': 'Michal Monselise', 'email': 'michal.monselise@gmail.com', 'date': '2019-01-17T06:28:16Z'}\n",
      "{'name': 'Michal Monselise', 'email': 'michal.monselise@gmail.com', 'date': '2019-01-17T06:24:01Z'}\n",
      "{'name': 'Zhou Zhou', 'email': 'zhou.eye8@gmail.com', 'date': '2019-01-16T23:20:01Z'}\n",
      "{'name': 'Zhou Zhou', 'email': 'zhou.eye8@gmail.com', 'date': '2019-01-16T22:24:40Z'}\n",
      "{'name': 'Zhou Zhou', 'email': 'zhou.eye8@gmail.com', 'date': '2019-01-16T22:24:35Z'}\n",
      "{'name': 'Michal Monselise', 'email': 'michal.monselise@gmail.com', 'date': '2019-01-14T22:40:53Z'}\n",
      "{'name': 'Michal Monselise', 'email': 'michal.monselise@gmail.com', 'date': '2019-01-11T20:01:48Z'}\n",
      "{'name': 'Michal Monselise', 'email': 'michal.monselise@gmail.com', 'date': '2019-01-10T21:15:16Z'}\n",
      "{'name': 'Michal Monselise', 'email': 'michal.monselise@gmail.com', 'date': '2019-01-10T21:11:31Z'}\n",
      "{'name': 'Zhou Zhou', 'email': 'zhou.eye8@gmail.com', 'date': '2019-01-08T20:22:14Z'}\n",
      "{'name': 'Zhou Zhou', 'email': 'zhou.eye8@gmail.com', 'date': '2019-01-08T20:22:09Z'}\n",
      "{'name': 'Tony Ojeda', 'email': 'tojeda@districtdatalabs.com', 'date': '2019-01-07T20:24:29Z'}\n",
      "{'name': 'Tony Ojeda', 'email': 'tojeda@districtdatalabs.com', 'date': '2019-01-07T20:20:17Z'}\n",
      "{'name': 'Tony Ojeda', 'email': 'tojeda@districtdatalabs.com', 'date': '2019-01-07T17:49:55Z'}\n",
      "{'name': 'Tony Ojeda', 'email': 'tojeda@districtdatalabs.com', 'date': '2019-01-07T17:47:26Z'}\n",
      "{'name': 'Zhou Zhou', 'email': 'zhou.eye8@gmail.com', 'date': '2019-01-07T16:32:06Z'}\n",
      "{'name': 'Zhou Zhou', 'email': 'zhou.eye8@gmail.com', 'date': '2019-01-07T16:17:21Z'}\n",
      "{'name': 'Tony Ojeda', 'email': 'tojeda@districtdatalabs.com', 'date': '2019-01-07T15:15:49Z'}\n",
      "{'name': 'Zhou Zhou', 'email': 'zhou.eye8@gmail.com', 'date': '2019-01-07T05:11:44Z'}\n",
      "{'name': 'Zhou Zhou', 'email': 'zhou.eye8@gmail.com', 'date': '2019-01-06T20:04:06Z'}\n",
      "{'name': 'Zhou Zhou', 'email': 'zhou.eye8@gmail.com', 'date': '2019-01-05T17:05:30Z'}\n",
      "{'name': 'Zhou Zhou', 'email': 'zhou.eye8@gmail.com', 'date': '2019-01-05T17:05:18Z'}\n",
      "{'name': 'Michal Monselise', 'email': 'michal.monselise@gmail.com', 'date': '2019-01-05T02:21:03Z'}\n",
      "{'name': 'Michal Monselise', 'email': 'michal.monselise@gmail.com', 'date': '2019-01-05T02:20:54Z'}\n",
      "30\n"
     ]
    }
   ],
   "source": [
    "import json\n",
    "import requests\n",
    "requestA = requests.get('http://api.github.com/repos/ironhack-datalabs/madrid-oct-2018/commits')\n",
    "resultados = requestA.json()\n",
    "\n",
    "contador = 0\n",
    "\n",
    "for res in resultados:\n",
    "    commit = res.get('commit')\n",
    "    author = commit.get('author')\n",
    "    print (author)\n",
    "    date = author.get('date')\n",
    "    #print (date)\n",
    "    contador = contador+1\n",
    "print (contador)"
   ]
  }
 ],
 "metadata": {
  "kernelspec": {
   "display_name": "Python 3 (ipykernel)",
   "language": "python",
   "name": "python3"
  },
  "language_info": {
   "codemirror_mode": {
    "name": "ipython",
    "version": 3
   },
   "file_extension": ".py",
   "mimetype": "text/x-python",
   "name": "python",
   "nbconvert_exporter": "python",
   "pygments_lexer": "ipython3",
   "version": "3.9.7"
  }
 },
 "nbformat": 4,
 "nbformat_minor": 5
}
