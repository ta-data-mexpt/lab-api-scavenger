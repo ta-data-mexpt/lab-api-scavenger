{
 "cells": [
  {
   "cell_type": "markdown",
   "id": "dcec229a",
   "metadata": {},
   "source": [
    "### Challenge 2: Count Commits\n",
    "\n",
    "Count how many commits were made in the past week.\n",
    "\n",
    "1. Obtain all the commits made in the past week via API, which is a JSON array that contains multiple commit objects.\n",
    "\n",
    "1. Count how many commit objects are contained in the array.\n"
   ]
  },
  {
   "cell_type": "code",
   "execution_count": 2,
   "id": "9e72dc75",
   "metadata": {},
   "outputs": [],
   "source": [
    "import requests\n",
    "import regex as re\n",
    "import numpy as np\n",
    "from datetime import datetime, timedelta\n"
   ]
  },
  {
   "cell_type": "code",
   "execution_count": 72,
   "id": "889a517d",
   "metadata": {},
   "outputs": [
    {
     "data": {
      "text/plain": [
       "0"
      ]
     },
     "execution_count": 72,
     "metadata": {},
     "output_type": "execute_result"
    }
   ],
   "source": [
    "\n",
    "# El repo de ta-data-mexpt/data-labs tiene sólo un commit así que utilicé el lab ta-data-mexpt/data-labs\n",
    "# pero igual los commits son más antiguos a 7 días así que no se tomaron commits\n",
    "\n",
    "commits = requests.get(\"https://api.github.com/repos/ta-data-mexpt/data-labs/commits\")\n",
    "lista_commits=[]\n",
    "\n",
    "for comit in commits.json():\n",
    "    fecha_commit=comit['commit']['committer']['date'][0:10]\n",
    "    fecha_commit=datetime.strptime(fecha_commit[0:10], \"%Y-%m-%d\").date()\n",
    "    if (date.today()-fecha_commit).days<=7 :\n",
    "        lista_commits.append(comit)\n",
    "\n",
    "len(lista_commits)"
   ]
  }
 ],
 "metadata": {
  "kernelspec": {
   "display_name": "Python 3",
   "language": "python",
   "name": "python3"
  },
  "language_info": {
   "codemirror_mode": {
    "name": "ipython",
    "version": 3
   },
   "file_extension": ".py",
   "mimetype": "text/x-python",
   "name": "python",
   "nbconvert_exporter": "python",
   "pygments_lexer": "ipython3",
   "version": "3.8.8"
  }
 },
 "nbformat": 4,
 "nbformat_minor": 5
}
